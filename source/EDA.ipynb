{
 "cells": [
  {
   "cell_type": "code",
   "execution_count": 11,
   "metadata": {},
   "outputs": [],
   "source": [
    "import pandas as pd\n",
    "import os\n",
    "\n",
    "df = pd.read_csv('../finalized_data/concatenated_data.csv')"
   ]
  },
  {
   "cell_type": "code",
   "execution_count": 12,
   "metadata": {},
   "outputs": [
    {
     "name": "stderr",
     "output_type": "stream",
     "text": [
      "/var/folders/fj/r2kb_f4d3k1gxmcwsdc81_1r0000gn/T/ipykernel_8681/327877287.py:2: FutureWarning: The default value of regex will change from True to False in a future version.\n",
      "  df['description'] = df['description'].str.replace('[^a-zA-Z0-9 \\n]', '')\n"
     ]
    }
   ],
   "source": [
    "# removing any special chanrachters from the description column and \\n from the description column\n",
    "df['description'] = df['description'].str.replace('[^a-zA-Z0-9 \\n]', '')\n",
    "# converting the description column to lowercase\n",
    "df['description'] = df['description'].str.lower()"
   ]
  },
  {
   "cell_type": "code",
   "execution_count": 13,
   "metadata": {},
   "outputs": [
    {
     "name": "stdout",
     "output_type": "stream",
     "text": [
      "Shape of cleaned DataFrame: (2902, 5)\n"
     ]
    }
   ],
   "source": [
    "print(\"Shape of cleaned DataFrame:\", df.shape)"
   ]
  },
  {
   "cell_type": "code",
   "execution_count": 14,
   "metadata": {},
   "outputs": [],
   "source": [
    "df.to_csv('../finalized_data/concatenated_data.csv', index=True)"
   ]
  },
  {
   "cell_type": "code",
   "execution_count": 16,
   "metadata": {},
   "outputs": [
    {
     "data": {
      "text/html": [
       "<div>\n",
       "<style scoped>\n",
       "    .dataframe tbody tr th:only-of-type {\n",
       "        vertical-align: middle;\n",
       "    }\n",
       "\n",
       "    .dataframe tbody tr th {\n",
       "        vertical-align: top;\n",
       "    }\n",
       "\n",
       "    .dataframe thead th {\n",
       "        text-align: right;\n",
       "    }\n",
       "</style>\n",
       "<table border=\"1\" class=\"dataframe\">\n",
       "  <thead>\n",
       "    <tr style=\"text-align: right;\">\n",
       "      <th></th>\n",
       "      <th>Unnamed: 0.1</th>\n",
       "      <th>Unnamed: 0</th>\n",
       "      <th>title</th>\n",
       "      <th>company</th>\n",
       "      <th>location</th>\n",
       "      <th>description</th>\n",
       "    </tr>\n",
       "  </thead>\n",
       "  <tbody>\n",
       "    <tr>\n",
       "      <th>0</th>\n",
       "      <td>0</td>\n",
       "      <td>1</td>\n",
       "      <td>Network and Cybersecurity Analyst</td>\n",
       "      <td>DOXA Insurance Holdings LLC</td>\n",
       "      <td>Scottsdale, AZ</td>\n",
       "      <td>description network and cybersecurity analyst\\...</td>\n",
       "    </tr>\n",
       "    <tr>\n",
       "      <th>1</th>\n",
       "      <td>1</td>\n",
       "      <td>4</td>\n",
       "      <td>CS335 Introduction to Cybersecurity</td>\n",
       "      <td>Park University Adjuncts</td>\n",
       "      <td>Gilbert, AZ</td>\n",
       "      <td>appointments are made on a termbyterm basis ad...</td>\n",
       "    </tr>\n",
       "    <tr>\n",
       "      <th>2</th>\n",
       "      <td>2</td>\n",
       "      <td>5</td>\n",
       "      <td>Cyber Security Engineer</td>\n",
       "      <td>Consumer Cellular</td>\n",
       "      <td>Scottsdale, AZ</td>\n",
       "      <td>cyber security engineer 240076job summary\\n\\n\\...</td>\n",
       "    </tr>\n",
       "    <tr>\n",
       "      <th>3</th>\n",
       "      <td>3</td>\n",
       "      <td>7</td>\n",
       "      <td>Cybersecurity Engineering Intern</td>\n",
       "      <td>General Dynamics Mission Systems, Inc</td>\n",
       "      <td>Scottsdale, AZ</td>\n",
       "      <td>basic qualifications \\n\\ncandidates should dem...</td>\n",
       "    </tr>\n",
       "    <tr>\n",
       "      <th>4</th>\n",
       "      <td>4</td>\n",
       "      <td>9</td>\n",
       "      <td>CYBER SECURITY INTERN</td>\n",
       "      <td>State of Arizona</td>\n",
       "      <td>Phoenix, AZ</td>\n",
       "      <td>department of homeland security\\n\\n\\ncyber sec...</td>\n",
       "    </tr>\n",
       "    <tr>\n",
       "      <th>5</th>\n",
       "      <td>5</td>\n",
       "      <td>10</td>\n",
       "      <td>Senior Information Security Analyst</td>\n",
       "      <td>Shutterfly</td>\n",
       "      <td>Tempe, AZ</td>\n",
       "      <td>description\\n\\n\\nat shutterfly we make lifes e...</td>\n",
       "    </tr>\n",
       "    <tr>\n",
       "      <th>6</th>\n",
       "      <td>6</td>\n",
       "      <td>11</td>\n",
       "      <td>Advisory - Cyber &amp; Strategic Risk - Cyber Iden...</td>\n",
       "      <td>Deloitte</td>\n",
       "      <td>Gilbert, AZ</td>\n",
       "      <td>cyber digital identity and access management s...</td>\n",
       "    </tr>\n",
       "    <tr>\n",
       "      <th>7</th>\n",
       "      <td>7</td>\n",
       "      <td>13</td>\n",
       "      <td>Identity and Access Management (IdAM) Engineer</td>\n",
       "      <td>Link Solutions, Inc.</td>\n",
       "      <td>Sierra Vista, AZ</td>\n",
       "      <td>link solutions is seeking an identity and acce...</td>\n",
       "    </tr>\n",
       "    <tr>\n",
       "      <th>8</th>\n",
       "      <td>8</td>\n",
       "      <td>15</td>\n",
       "      <td>SOFTWARE ENGINEERING/DESIGN INTERN</td>\n",
       "      <td>Ping, Inc.</td>\n",
       "      <td>Phoenix, AZ, USA</td>\n",
       "      <td>software engineeringdesign internship opportun...</td>\n",
       "    </tr>\n",
       "    <tr>\n",
       "      <th>9</th>\n",
       "      <td>9</td>\n",
       "      <td>16</td>\n",
       "      <td>MSW Field Intern</td>\n",
       "      <td>Arizona Center for Youth Resources</td>\n",
       "      <td>Phoenix, AZ, USA</td>\n",
       "      <td>principal objectivespurpose\\n\\nthe acyr team b...</td>\n",
       "    </tr>\n",
       "  </tbody>\n",
       "</table>\n",
       "</div>"
      ],
      "text/plain": [
       "   Unnamed: 0.1  Unnamed: 0  \\\n",
       "0             0           1   \n",
       "1             1           4   \n",
       "2             2           5   \n",
       "3             3           7   \n",
       "4             4           9   \n",
       "5             5          10   \n",
       "6             6          11   \n",
       "7             7          13   \n",
       "8             8          15   \n",
       "9             9          16   \n",
       "\n",
       "                                               title  \\\n",
       "0                  Network and Cybersecurity Analyst   \n",
       "1                CS335 Introduction to Cybersecurity   \n",
       "2                            Cyber Security Engineer   \n",
       "3                   Cybersecurity Engineering Intern   \n",
       "4                              CYBER SECURITY INTERN   \n",
       "5                Senior Information Security Analyst   \n",
       "6  Advisory - Cyber & Strategic Risk - Cyber Iden...   \n",
       "7     Identity and Access Management (IdAM) Engineer   \n",
       "8                 SOFTWARE ENGINEERING/DESIGN INTERN   \n",
       "9                                   MSW Field Intern   \n",
       "\n",
       "                                 company          location  \\\n",
       "0            DOXA Insurance Holdings LLC    Scottsdale, AZ   \n",
       "1               Park University Adjuncts       Gilbert, AZ   \n",
       "2                      Consumer Cellular    Scottsdale, AZ   \n",
       "3  General Dynamics Mission Systems, Inc    Scottsdale, AZ   \n",
       "4                       State of Arizona       Phoenix, AZ   \n",
       "5                             Shutterfly         Tempe, AZ   \n",
       "6                               Deloitte       Gilbert, AZ   \n",
       "7                   Link Solutions, Inc.  Sierra Vista, AZ   \n",
       "8                             Ping, Inc.  Phoenix, AZ, USA   \n",
       "9     Arizona Center for Youth Resources  Phoenix, AZ, USA   \n",
       "\n",
       "                                         description  \n",
       "0  description network and cybersecurity analyst\\...  \n",
       "1  appointments are made on a termbyterm basis ad...  \n",
       "2  cyber security engineer 240076job summary\\n\\n\\...  \n",
       "3  basic qualifications \\n\\ncandidates should dem...  \n",
       "4  department of homeland security\\n\\n\\ncyber sec...  \n",
       "5  description\\n\\n\\nat shutterfly we make lifes e...  \n",
       "6  cyber digital identity and access management s...  \n",
       "7  link solutions is seeking an identity and acce...  \n",
       "8  software engineeringdesign internship opportun...  \n",
       "9  principal objectivespurpose\\n\\nthe acyr team b...  "
      ]
     },
     "execution_count": 16,
     "metadata": {},
     "output_type": "execute_result"
    }
   ],
   "source": [
    "df = pd.read_csv('../finalized_data/concatenated_data.csv')\n",
    "df.head(10)"
   ]
  },
  {
   "cell_type": "code",
   "execution_count": null,
   "metadata": {},
   "outputs": [],
   "source": []
  }
 ],
 "metadata": {
  "kernelspec": {
   "display_name": "base",
   "language": "python",
   "name": "python3"
  },
  "language_info": {
   "codemirror_mode": {
    "name": "ipython",
    "version": 3
   },
   "file_extension": ".py",
   "mimetype": "text/x-python",
   "name": "python",
   "nbconvert_exporter": "python",
   "pygments_lexer": "ipython3",
   "version": "3.10.9"
  },
  "orig_nbformat": 4,
  "vscode": {
   "interpreter": {
    "hash": "38cca0c38332a56087b24af0bc80247f4fced29cb4f7f437d91dc159adec9c4e"
   }
  }
 },
 "nbformat": 4,
 "nbformat_minor": 2
}
