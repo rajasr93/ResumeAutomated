{
 "cells": [
  {
   "cell_type": "code",
   "execution_count": 18,
   "metadata": {},
   "outputs": [],
   "source": [
    "import pandas as pd\n",
    "import matplotlib.pyplot as plt\n",
    "import seaborn as sns\n",
    "\n",
    "# Load the finalized data\n",
    "df = pd.read_csv('../finalized_data/cleaned_data.csv')"
   ]
  },
  {
   "cell_type": "code",
   "execution_count": 10,
   "metadata": {},
   "outputs": [
    {
     "data": {
      "text/html": [
       "<div>\n",
       "<style scoped>\n",
       "    .dataframe tbody tr th:only-of-type {\n",
       "        vertical-align: middle;\n",
       "    }\n",
       "\n",
       "    .dataframe tbody tr th {\n",
       "        vertical-align: top;\n",
       "    }\n",
       "\n",
       "    .dataframe thead th {\n",
       "        text-align: right;\n",
       "    }\n",
       "</style>\n",
       "<table border=\"1\" class=\"dataframe\">\n",
       "  <thead>\n",
       "    <tr style=\"text-align: right;\">\n",
       "      <th></th>\n",
       "      <th>Unnamed: 0</th>\n",
       "      <th>title</th>\n",
       "      <th>company</th>\n",
       "      <th>location</th>\n",
       "      <th>description</th>\n",
       "    </tr>\n",
       "  </thead>\n",
       "  <tbody>\n",
       "    <tr>\n",
       "      <th>0</th>\n",
       "      <td>15</td>\n",
       "      <td>Lead Financial Analyst</td>\n",
       "      <td>Ascension</td>\n",
       "      <td>Jacksonville, FL, USA</td>\n",
       "      <td>Perform   analysis   and reporting regarding  ...</td>\n",
       "    </tr>\n",
       "    <tr>\n",
       "      <th>1</th>\n",
       "      <td>16</td>\n",
       "      <td>Financial Analyst  Level I</td>\n",
       "      <td>Adecco</td>\n",
       "      <td>Jacksonville, FL, USA</td>\n",
       "      <td>Adecco    is currently assisting a local fin...</td>\n",
       "    </tr>\n",
       "  </tbody>\n",
       "</table>\n",
       "</div>"
      ],
      "text/plain": [
       "   Unnamed: 0                       title    company               location  \\\n",
       "0          15      Lead Financial Analyst  Ascension  Jacksonville, FL, USA   \n",
       "1          16  Financial Analyst  Level I     Adecco  Jacksonville, FL, USA   \n",
       "\n",
       "                                         description  \n",
       "0  Perform   analysis   and reporting regarding  ...  \n",
       "1    Adecco    is currently assisting a local fin...  "
      ]
     },
     "execution_count": 10,
     "metadata": {},
     "output_type": "execute_result"
    }
   ],
   "source": [
    "df.head(2)"
   ]
  },
  {
   "cell_type": "code",
   "execution_count": 12,
   "metadata": {},
   "outputs": [
    {
     "name": "stdout",
     "output_type": "stream",
     "text": [
      "First few rows of the DataFrame:\n",
      "   Unnamed: 0                                  title  \\\n",
      "0          15                 Lead Financial Analyst   \n",
      "1          16             Financial Analyst  Level I   \n",
      "2          17            Financial Analyst (Level I)   \n",
      "3          18          FP&A Analyst - Virtual/Remote   \n",
      "4          19  Supervisory Financial Systems Analyst   \n",
      "\n",
      "                                             company               location  \\\n",
      "0                                          Ascension  Jacksonville, FL, USA   \n",
      "1                                             Adecco  Jacksonville, FL, USA   \n",
      "2  NATA-Certified | Columbus OH FBO | Rickenbacke...  Jacksonville, FL, USA   \n",
      "3                                          Enumerate  Jacksonville, FL, USA   \n",
      "4                           Internal Revenue Service  Jacksonville, FL, USA   \n",
      "\n",
      "                                         description  \n",
      "0  Perform   analysis   and reporting regarding  ...  \n",
      "1    Adecco    is currently assisting a local fin...  \n",
      "2    Financial     Analyst     Fin Bus Support Jo...  \n",
      "3  Enumerate needs a   Financial Planning   Analy...  \n",
      "4  This experience may have been gained through w...  \n",
      "\n",
      "Data types of each column:\n",
      "Unnamed: 0      int64\n",
      "title          object\n",
      "company        object\n",
      "location       object\n",
      "description    object\n",
      "dtype: object\n"
     ]
    }
   ],
   "source": [
    "print(\"First few rows of the DataFrame:\")\n",
    "print(df.head())\n",
    "\n",
    "# Check the data types of each column\n",
    "print(\"\\nData types of each column:\")\n",
    "print(df.dtypes)"
   ]
  },
  {
   "cell_type": "code",
   "execution_count": 14,
   "metadata": {},
   "outputs": [
    {
     "name": "stdout",
     "output_type": "stream",
     "text": [
      "\n",
      "Missing values in each column:\n",
      "Unnamed: 0      0\n",
      "title           0\n",
      "company         0\n",
      "location       12\n",
      "description     0\n",
      "dtype: int64\n"
     ]
    }
   ],
   "source": [
    "# Check for missing values\n",
    "print(\"\\nMissing values in each column:\")\n",
    "print(df.isnull().sum())"
   ]
  },
  {
   "cell_type": "code",
   "execution_count": 17,
   "metadata": {},
   "outputs": [
    {
     "name": "stdout",
     "output_type": "stream",
     "text": [
      "\n",
      "Unique values in the 'title' column:\n",
      "Financial Analyst                                                   233\n",
      "Business Analyst                                                    120\n",
      "Data Analyst                                                         94\n",
      "Senior Financial Analyst                                             76\n",
      "FP&A Analyst - Virtual/Remote                                        46\n",
      "                                                                   ... \n",
      "Senior Financial Analyst - Ag Retail                                  1\n",
      "Senior Financial Analyst, R&D                                         1\n",
      "Business Finance Senior Analyst                                       1\n",
      "Information Security Analyst III (Security Maturity Assessments)      1\n",
      "Maryland Longitudinal Data System Data Quality Analyst                1\n",
      "Name: title, Length: 2155, dtype: int64\n"
     ]
    }
   ],
   "source": [
    "# Get the unique values in the title column with their counts\n",
    "\n",
    "print(\"\\nUnique values in the 'title' column:\")\n",
    "print(df['title'].value_counts())"
   ]
  },
  {
   "cell_type": "code",
   "execution_count": 24,
   "metadata": {},
   "outputs": [
    {
     "data": {
      "image/png": "[encoded data removed]",
      "text/plain": [
       "<Figure size 1200x600 with 1 Axes>"
      ]
     },
     "metadata": {},
     "output_type": "display_data"
    }
   ],
   "source": [
    "title_counts = df['title'].value_counts()\n",
    "\n",
    "top_10_titles = title_counts.head(10)\n",
    "\n",
    "# Create a bar plot\n",
    "plt.figure(figsize=(12, 6))\n",
    "top_10_titles.plot(kind='bar')\n",
    "\n",
    "# Add title and labels\n",
    "plt.title('Top 10 Job Titles', fontsize=16)\n",
    "plt.xlabel('Job Title', fontsize=14)\n",
    "plt.ylabel('Count', fontsize=14)\n",
    "\n",
    "# Rotate x-axis labels for better visibility\n",
    "plt.xticks(rotation=45, ha='right')\n",
    "\n",
    "# Display the plot\n",
    "plt.tight_layout()\n",
    "plt.show()"
   ]
  },
  {
   "cell_type": "code",
   "execution_count": 15,
   "metadata": {},
   "outputs": [
    {
     "data": {
      "text/plain": [
       "0    [ContentBlock(text=\"{\\n    'hard_skills': ['co...\n",
       "Name: description, dtype: object"
      ]
     },
     "execution_count": 15,
     "metadata": {},
     "output_type": "execute_result"
    }
   ],
   "source": [
    "annotated_data"
   ]
  },
  {
   "cell_type": "code",
   "execution_count": 52,
   "metadata": {},
   "outputs": [
    {
     "data": {
      "text/html": [
       "<div>\n",
       "<style scoped>\n",
       "    .dataframe tbody tr th:only-of-type {\n",
       "        vertical-align: middle;\n",
       "    }\n",
       "\n",
       "    .dataframe tbody tr th {\n",
       "        vertical-align: top;\n",
       "    }\n",
       "\n",
       "    .dataframe thead th {\n",
       "        text-align: right;\n",
       "    }\n",
       "</style>\n",
       "<table border=\"1\" class=\"dataframe\">\n",
       "  <thead>\n",
       "    <tr style=\"text-align: right;\">\n",
       "      <th></th>\n",
       "      <th>title</th>\n",
       "      <th>company</th>\n",
       "      <th>location</th>\n",
       "      <th>description</th>\n",
       "    </tr>\n",
       "  </thead>\n",
       "  <tbody>\n",
       "    <tr>\n",
       "      <th>0</th>\n",
       "      <td>Project Lead</td>\n",
       "      <td>Softmax</td>\n",
       "      <td>Washington, DC, US</td>\n",
       "      <td>benefits competitive salary 100 onsite role lo...</td>\n",
       "    </tr>\n",
       "    <tr>\n",
       "      <th>1</th>\n",
       "      <td>Operations Analyst</td>\n",
       "      <td>MELE Associates, Inc</td>\n",
       "      <td>Washington, DC, US</td>\n",
       "      <td>this position is for an operations analyst to ...</td>\n",
       "    </tr>\n",
       "    <tr>\n",
       "      <th>2</th>\n",
       "      <td>Senior Pricing and Business Analyst</td>\n",
       "      <td>Roland Foods, LLC.</td>\n",
       "      <td>Gaithersburg, MD, US</td>\n",
       "      <td>about albert uster imports albert uster import...</td>\n",
       "    </tr>\n",
       "    <tr>\n",
       "      <th>3</th>\n",
       "      <td>Operations Research Analyst</td>\n",
       "      <td>Amentum</td>\n",
       "      <td>Fort Belvoir, VA, US</td>\n",
       "      <td>amentum is currently seeking talented enthusia...</td>\n",
       "    </tr>\n",
       "    <tr>\n",
       "      <th>4</th>\n",
       "      <td>Jr. Business Analyst</td>\n",
       "      <td>BRS</td>\n",
       "      <td>Washington, DC, US</td>\n",
       "      <td>tss is seeking onsite administrative and techn...</td>\n",
       "    </tr>\n",
       "  </tbody>\n",
       "</table>\n",
       "</div>"
      ],
      "text/plain": [
       "                                 title               company  \\\n",
       "0                         Project Lead               Softmax   \n",
       "1                   Operations Analyst  MELE Associates, Inc   \n",
       "2  Senior Pricing and Business Analyst    Roland Foods, LLC.   \n",
       "3          Operations Research Analyst               Amentum   \n",
       "4                 Jr. Business Analyst                   BRS   \n",
       "\n",
       "               location                                        description  \n",
       "0    Washington, DC, US  benefits competitive salary 100 onsite role lo...  \n",
       "1    Washington, DC, US  this position is for an operations analyst to ...  \n",
       "2  Gaithersburg, MD, US  about albert uster imports albert uster import...  \n",
       "3  Fort Belvoir, VA, US  amentum is currently seeking talented enthusia...  \n",
       "4    Washington, DC, US  tss is seeking onsite administrative and techn...  "
      ]
     },
     "execution_count": 52,
     "metadata": {},
     "output_type": "execute_result"
    }
   ],
   "source": [
    "import pandas as pd\n",
    "\n",
    "df = pd.read_csv('../data/job_data_cleaned.csv')\n",
    "df.head()"
   ]
  },
  {
   "cell_type": "code",
   "execution_count": 53,
   "metadata": {},
   "outputs": [
    {
     "data": {
      "text/plain": [
       "0"
      ]
     },
     "execution_count": 53,
     "metadata": {},
     "output_type": "execute_result"
    }
   ],
   "source": [
    "# looking for if the data is not repeated\n",
    "\n",
    "df.duplicated().sum()"
   ]
  },
  {
   "cell_type": "code",
   "execution_count": 54,
   "metadata": {},
   "outputs": [
    {
     "data": {
      "text/plain": [
       "title            0\n",
       "company        123\n",
       "location         0\n",
       "description      0\n",
       "dtype: int64"
      ]
     },
     "execution_count": 54,
     "metadata": {},
     "output_type": "execute_result"
    }
   ],
   "source": [
    "# finding the missing values\n",
    "\n",
    "df.isnull().sum()"
   ]
  },
  {
   "cell_type": "code",
   "execution_count": 56,
   "metadata": {},
   "outputs": [
    {
     "data": {
      "text/plain": [
       "title\n",
       "Business Analyst                                                          241\n",
       "Data Scientist                                                            231\n",
       "Data Analyst                                                              161\n",
       "Software Engineer                                                         102\n",
       "Data Engineer                                                              86\n",
       "                                                                         ... \n",
       "Director, Analytics & Strategic Operations                                  1\n",
       "Rent Payable Business Analyst                                               1\n",
       "Copy of Commercial Lines Account Manager                                    1\n",
       "Business Analyst - (Consumer Experience - Quantitative Research)            1\n",
       "Open Rank Professor in Atmospheric Science with Data Science Expertise      1\n",
       "Name: count, Length: 14173, dtype: int64"
      ]
     },
     "execution_count": 56,
     "metadata": {},
     "output_type": "execute_result"
    }
   ],
   "source": [
    "# cheking for the unique values in the title column\n",
    "\n",
    "df['title'].value_counts()"
   ]
  },
  {
   "cell_type": "code",
   "execution_count": 63,
   "metadata": {},
   "outputs": [],
   "source": [
    "df = pd.read_csv('../data/job_data_scraped.csv')\n",
    "\n",
    "# cleaning the data\n",
    "\n",
    "from cleaner import JobDataCleaner\n",
    "\n",
    "cleaner = JobDataCleaner(df)\n",
    "cleaner.remove_null_descriptions()\n",
    "cleaner.clean_descriptions()\n",
    "cleaner.remove_duplicates()\n",
    "clean_data = cleaner.get_cleaned_data()"
   ]
  },
  {
   "cell_type": "code",
   "execution_count": 64,
   "metadata": {},
   "outputs": [
    {
     "data": {
      "text/plain": [
       "(18857, 4)"
      ]
     },
     "execution_count": 64,
     "metadata": {},
     "output_type": "execute_result"
    }
   ],
   "source": [
    "clean_data.shape"
   ]
  },
  {
   "cell_type": "code",
   "execution_count": 65,
   "metadata": {},
   "outputs": [],
   "source": [
    "# saving the cleaned data\n",
    "\n",
    "clean_data.to_csv('../data/job_data_cleaned.csv', index=False)"
   ]
  },
  {
   "cell_type": "code",
   "execution_count": 67,
   "metadata": {},
   "outputs": [
    {
     "data": {
      "text/plain": [
       "(18857, 4)"
      ]
     },
     "execution_count": 67,
     "metadata": {},
     "output_type": "execute_result"
    }
   ],
   "source": [
    "clean_data.shape"
   ]
  },
  {
   "cell_type": "code",
   "execution_count": 68,
   "metadata": {},
   "outputs": [],
   "source": [
    "clean_data1 = clean_data.head(100)\n",
    "clean_data1.to_csv('../data/job_data_cleaned1.csv', index=False)"
   ]
  },
  {
   "cell_type": "code",
   "execution_count": null,
   "metadata": {},
   "outputs": [],
   "source": [
    "# creating a file with 10000 rows which does not include data from the cleaned data1\n",
    "\n",
    "clean_data2 = clean_data[100:10100]\n",
    "clean_data2.to_csv('../data/job_data_cleaned2.csv', index=False)"
   ]
  }
 ],
 "metadata": {
  "kernelspec": {
   "display_name": "cenv",
   "language": "python",
   "name": "python3"
  },
  "language_info": {
   "codemirror_mode": {
    "name": "ipython",
    "version": 3
   },
   "file_extension": ".py",
   "mimetype": "text/x-python",
   "name": "python",
   "nbconvert_exporter": "python",
   "pygments_lexer": "ipython3",
   "version": "3.10.9"
  },
  "orig_nbformat": 4,
  "vscode": {
   "interpreter": {
    "hash": "39b84da1c93e6f494499ba785a79bec4365149afba54112486f21c19e0ab1055"
   }
  }
 },
 "nbformat": 4,
 "nbformat_minor": 2
}
